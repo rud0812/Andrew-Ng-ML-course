{
 "cells": [
  {
   "cell_type": "markdown",
   "id": "satisfactory-feature",
   "metadata": {},
   "source": [
    "# Machine Learning - Assignment 5"
   ]
  },
  {
   "cell_type": "markdown",
   "id": "square-albert",
   "metadata": {},
   "source": [
    "This week we look at regularization of linear regressions. Splitting data into training, validation and testing sets and using their errors to test for bias or variance problems"
   ]
  },
  {
   "cell_type": "code",
   "execution_count": 1,
   "id": "handed-april",
   "metadata": {},
   "outputs": [],
   "source": [
    "import numpy as np\n",
    "import pandas as pd\n",
    "import matplotlib.pyplot as plt\n",
    "import seaborn as sns\n",
    "%matplotlib inline\n",
    "import scipy.optimize as op\n",
    "from scipy.io import loadmat"
   ]
  },
  {
   "cell_type": "markdown",
   "id": "inclusive-capital",
   "metadata": {},
   "source": [
    "## Problem 1: Regularized Linear Regression"
   ]
  },
  {
   "cell_type": "markdown",
   "id": "corrected-bunny",
   "metadata": {},
   "source": [
    "### Problem 1.1: Visualizing the Data"
   ]
  },
  {
   "cell_type": "code",
   "execution_count": 5,
   "id": "answering-commitment",
   "metadata": {},
   "outputs": [
    {
     "name": "stdout",
     "output_type": "stream",
     "text": [
      "(12, 1)\n",
      "(12,)\n"
     ]
    }
   ],
   "source": [
    "data = loadmat('./data/ex5data1.mat')\n",
    "X, y = data[\"X\"], data[\"y\"].ravel()\n",
    "print(X.shape)\n",
    "print(y.shape)"
   ]
  },
  {
   "cell_type": "code",
   "execution_count": 42,
   "id": "hybrid-consolidation",
   "metadata": {},
   "outputs": [
    {
     "data": {
      "image/png": "[encoded data removed]",
      "text/plain": [
       "<Figure size 432x288 with 1 Axes>"
      ]
     },
     "metadata": {
      "needs_background": "light"
     },
     "output_type": "display_data"
    }
   ],
   "source": [
    "plt.figure()\n",
    "plt.scatter(x=X, y=y, color=\"blue\")\n",
    "plt.ylabel(\"water flowing out of the dam (y)\")\n",
    "plt.xlabel(\"change in water level (x)\")\n",
    "plt.show()"
   ]
  },
  {
   "cell_type": "markdown",
   "id": "proprietary-champagne",
   "metadata": {},
   "source": [
    "### Problem 1.2: Regularized linear regression cost function"
   ]
  },
  {
   "cell_type": "markdown",
   "id": "wireless-remains",
   "metadata": {},
   "source": [
    "We recall the cost function for regularized linear regression -->$$𝐽(ø)={1\\over{2𝑚}}∑(ℎ_ø(𝑥^{(i)})−𝑦^{(𝑖)})^2 +\\frac{\\lambda}{2m}\\sum_{j=1}^n{\\theta_j^2}$$"
   ]
  },
  {
   "cell_type": "code",
   "execution_count": 25,
   "id": "periodic-receptor",
   "metadata": {},
   "outputs": [],
   "source": [
    "def linearRegCostFunction(theta, X, y, lam):\n",
    "    h = np.dot(X,theta)\n",
    "    t = np.zeros(len(theta))\n",
    "    t[1:] = theta[1:]\n",
    "    J = np.dot((np.dot(X,theta)-y),(np.dot(X,theta)-y))/(2*len(X))\n",
    "    grad = (np.dot(X.T,(h-y))/len(X))+((t*lam)/len(X))\n",
    "    return J, grad\n",
    "    \n",
    "def cost(theta, X, y, lam):\n",
    "    h = np.dot(X,theta)\n",
    "    t = np.zeros(len(theta))\n",
    "    t[1:] = theta[1:]\n",
    "    J = np.dot((np.dot(X,theta)-y),(np.dot(X,theta)-y))/(2*len(X))\n",
    "    return J\n",
    "\n",
    "def gradient(theta, X, y,lam):\n",
    "    h = np.dot(X,theta)\n",
    "    t = np.zeros(len(theta))\n",
    "    t[1:] = theta[1:]\n",
    "    grad = (np.dot(X.T,(h-y))/len(X))+((t*lam)/len(X))\n",
    "    return grad    "
   ]
  },
  {
   "cell_type": "code",
   "execution_count": 22,
   "id": "fourth-machinery",
   "metadata": {},
   "outputs": [
    {
     "name": "stdout",
     "output_type": "stream",
     "text": [
      "Cost at theta = (1,1) is:  303.9515255535976\n"
     ]
    }
   ],
   "source": [
    "theta = [1, 1]\n",
    "lam = 1\n",
    "X_train = np.column_stack((np.ones(len(X)),X))\n",
    "J, grad = linearRegCostFunction(theta, X_train, y, lam)\n",
    "print('Cost at theta = (1,1) is: ',J)"
   ]
  },
  {
   "cell_type": "markdown",
   "id": "romance-stylus",
   "metadata": {},
   "source": [
    "### Problem 1.3: Regularized linear regression gradient"
   ]
  },
  {
   "cell_type": "code",
   "execution_count": 23,
   "id": "nominated-silver",
   "metadata": {},
   "outputs": [
    {
     "name": "stdout",
     "output_type": "stream",
     "text": [
      "Gradient at theta = (1,1) is:  [-15.30301567 598.25074417]\n"
     ]
    }
   ],
   "source": [
    "print('Gradient at theta = (1,1) is: ',grad)"
   ]
  },
  {
   "cell_type": "markdown",
   "id": "yellow-purple",
   "metadata": {},
   "source": [
    "### Problem 1.4: Fitting linear regression"
   ]
  },
  {
   "cell_type": "markdown",
   "id": "elegant-storage",
   "metadata": {},
   "source": [
    "Now we compute the optimal values of $$\\theta$$"
   ]
  },
  {
   "cell_type": "code",
   "execution_count": 40,
   "id": "military-kinase",
   "metadata": {},
   "outputs": [],
   "source": [
    "def trainLinearReg(X, y, lam):\n",
    "    initial_theta = np.zeros(X.shape[1])\n",
    "    res = op.minimize(fun=cost, x0=initial_theta, args=(X_train, y,lam),\n",
    "                        method='CG', jac = gradient)\n",
    "    return res.x"
   ]
  },
  {
   "cell_type": "code",
   "execution_count": 41,
   "id": "broken-adams",
   "metadata": {},
   "outputs": [
    {
     "name": "stdout",
     "output_type": "stream",
     "text": [
      "[13.08790351  0.36777923]\n"
     ]
    }
   ],
   "source": [
    "lam = 0\n",
    "X_train = np.column_stack((np.ones(len(X)),X))\n",
    "theta_opt = trainLinearReg(X_train, y, lam)\n",
    "print(theta_opt)"
   ]
  },
  {
   "cell_type": "code",
   "execution_count": 73,
   "id": "acceptable-bishop",
   "metadata": {},
   "outputs": [
    {
     "data": {
      "image/png": "[encoded data removed]",
      "text/plain": [
       "<Figure size 432x288 with 1 Axes>"
      ]
     },
     "metadata": {
      "needs_background": "light"
     },
     "output_type": "display_data"
    }
   ],
   "source": [
    "X_dummy=np.linspace(min(X),max(X),len(X))\n",
    "X_dummy_train = np.column_stack((np.ones(len(X_dummy)),X_dummy))\n",
    "h = np.dot(X_dummy_train,theta_opt)\n",
    "plt.figure()\n",
    "plt.scatter(x=X, y=y, color=\"blue\")\n",
    "plt.plot(X_dummy,h, color=\"red\")\n",
    "plt.ylabel(\"water flowing out of the dam (y)\")\n",
    "plt.xlabel(\"change in water level (x)\")\n",
    "plt.show()"
   ]
  },
  {
   "cell_type": "markdown",
   "id": "floral-litigation",
   "metadata": {},
   "source": [
    "## Problem 2: Bias-variance"
   ]
  },
  {
   "cell_type": "code",
   "execution_count": null,
   "id": "editorial-hampton",
   "metadata": {},
   "outputs": [],
   "source": []
  }
 ],
 "metadata": {
  "kernelspec": {
   "display_name": "Python 3",
   "language": "python",
   "name": "python3"
  },
  "language_info": {
   "codemirror_mode": {
    "name": "ipython",
    "version": 3
   },
   "file_extension": ".py",
   "mimetype": "text/x-python",
   "name": "python",
   "nbconvert_exporter": "python",
   "pygments_lexer": "ipython3",
   "version": "3.7.10"
  }
 },
 "nbformat": 4,
 "nbformat_minor": 5
}

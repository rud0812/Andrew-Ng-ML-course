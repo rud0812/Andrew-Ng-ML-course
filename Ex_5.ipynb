{
 "cells": [
  {
   "cell_type": "markdown",
   "id": "satisfactory-feature",
   "metadata": {},
   "source": [
    "# Machine Learning - Assignment 5"
   ]
  },
  {
   "cell_type": "markdown",
   "id": "square-albert",
   "metadata": {},
   "source": [
    "This week we look at regularization of linear regressions. Splitting data into training, validation and testing sets and using their errors to test for bias or variance problems"
   ]
  },
  {
   "cell_type": "code",
   "execution_count": 112,
   "id": "handed-april",
   "metadata": {},
   "outputs": [],
   "source": [
    "import numpy as np\n",
    "import pandas as pd\n",
    "import matplotlib.pyplot as plt\n",
    "import seaborn as sns\n",
    "%matplotlib inline\n",
    "import scipy.optimize as op\n",
    "from scipy.io import loadmat"
   ]
  },
  {
   "cell_type": "markdown",
   "id": "inclusive-capital",
   "metadata": {},
   "source": [
    "## Problem 1: Regularized Linear Regression"
   ]
  },
  {
   "cell_type": "markdown",
   "id": "corrected-bunny",
   "metadata": {},
   "source": [
    "### Problem 1.1: Visualizing the Data"
   ]
  },
  {
   "cell_type": "code",
   "execution_count": 113,
   "id": "answering-commitment",
   "metadata": {},
   "outputs": [
    {
     "name": "stdout",
     "output_type": "stream",
     "text": [
      "(12, 1) (12,)\n",
      "(21, 1) (21,)\n",
      "(21, 1) (21,)\n"
     ]
    }
   ],
   "source": [
    "data = loadmat('./data/ex5data1.mat')\n",
    "X, y = data[\"X\"], data[\"y\"].ravel()\n",
    "Xval, yval = data[\"Xval\"], data[\"yval\"].ravel()\n",
    "Xtest, ytest = data[\"Xtest\"], data[\"ytest\"].ravel()\n",
    "print(X.shape, y.shape)\n",
    "print(Xval.shape, yval.shape)\n",
    "print(Xtest.shape, ytest.shape)"
   ]
  },
  {
   "cell_type": "code",
   "execution_count": 114,
   "id": "hybrid-consolidation",
   "metadata": {},
   "outputs": [
    {
     "data": {
      "image/png": "[encoded data removed]",
      "text/plain": [
       "<Figure size 432x288 with 1 Axes>"
      ]
     },
     "metadata": {
      "needs_background": "light"
     },
     "output_type": "display_data"
    }
   ],
   "source": [
    "plt.figure()\n",
    "plt.scatter(x=X, y=y, color=\"blue\")\n",
    "plt.ylabel(\"water flowing out of the dam (y)\")\n",
    "plt.xlabel(\"change in water level (x)\")\n",
    "plt.show()"
   ]
  },
  {
   "cell_type": "markdown",
   "id": "proprietary-champagne",
   "metadata": {},
   "source": [
    "### Problem 1.2: Regularized linear regression cost function"
   ]
  },
  {
   "cell_type": "markdown",
   "id": "wireless-remains",
   "metadata": {},
   "source": [
    "We recall the cost function for regularized linear regression -->$$𝐽(ø)={1\\over{2𝑚}}∑(ℎ_ø(𝑥^{(i)})−𝑦^{(𝑖)})^2 +\\frac{\\lambda}{2m}\\sum_{j=1}^n{\\theta_j^2}$$"
   ]
  },
  {
   "cell_type": "code",
   "execution_count": 249,
   "id": "periodic-receptor",
   "metadata": {},
   "outputs": [],
   "source": [
    "def linearRegCostFunction(theta, X, y, lam):\n",
    "    h = np.dot(X,theta)\n",
    "    t = np.zeros(len(theta))\n",
    "    t[1:] = theta[1:]\n",
    "    J = np.dot((np.dot(X,theta)-y),(np.dot(X,theta)-y))/(2*len(X))\n",
    "    grad = (np.dot(X.T,(h-y))/len(X))+((t*lam)/len(X))\n",
    "    return J, grad\n",
    "    \n",
    "def cost(theta, X, y, lam):\n",
    "    h = np.dot(X,theta)\n",
    "    t = np.zeros(len(theta))\n",
    "    t[1:] = theta[1:]\n",
    "    J = np.dot((h-y),(h-y))/(2*len(X)) + lam * np.dot(t, t) / (2 * X.shape[0])\n",
    "    return J\n",
    "\n",
    "def gradient(theta, X, y,lam):\n",
    "    h = np.dot(X,theta)\n",
    "    t = np.zeros(len(theta))\n",
    "    t[1:] = theta[1:]\n",
    "    grad = (np.dot(X.T,(h-y))/len(X))+((t*lam)/len(X))\n",
    "    return grad    "
   ]
  },
  {
   "cell_type": "code",
   "execution_count": 250,
   "id": "fourth-machinery",
   "metadata": {},
   "outputs": [
    {
     "name": "stdout",
     "output_type": "stream",
     "text": [
      "Cost at theta = (1,1) is:  303.9515255535976\n"
     ]
    }
   ],
   "source": [
    "theta = [1, 1]\n",
    "lam = 1\n",
    "X_train = np.column_stack((np.ones(len(X)),X))\n",
    "J, grad = linearRegCostFunction(theta, X_train, y, lam)\n",
    "print('Cost at theta = (1,1) is: ',J)"
   ]
  },
  {
   "cell_type": "markdown",
   "id": "romance-stylus",
   "metadata": {},
   "source": [
    "### Problem 1.3: Regularized linear regression gradient"
   ]
  },
  {
   "cell_type": "code",
   "execution_count": 251,
   "id": "nominated-silver",
   "metadata": {},
   "outputs": [
    {
     "name": "stdout",
     "output_type": "stream",
     "text": [
      "Gradient at theta = (1,1) is:  [-15.30301567 598.25074417]\n"
     ]
    }
   ],
   "source": [
    "print('Gradient at theta = (1,1) is: ',grad)"
   ]
  },
  {
   "cell_type": "markdown",
   "id": "yellow-purple",
   "metadata": {},
   "source": [
    "### Problem 1.4: Fitting linear regression"
   ]
  },
  {
   "cell_type": "markdown",
   "id": "elegant-storage",
   "metadata": {},
   "source": [
    "Now we compute the optimal values of $$\\theta$$"
   ]
  },
  {
   "cell_type": "code",
   "execution_count": 252,
   "id": "military-kinase",
   "metadata": {},
   "outputs": [],
   "source": [
    "def trainLinearReg(X, y, lam):\n",
    "    initial_theta = np.zeros(X.shape[1])\n",
    "    res = op.minimize(fun=cost, x0=initial_theta, args=(X, y,lam),\n",
    "                        method='CG', jac = gradient)\n",
    "    return res.x"
   ]
  },
  {
   "cell_type": "code",
   "execution_count": 253,
   "id": "broken-adams",
   "metadata": {},
   "outputs": [
    {
     "name": "stdout",
     "output_type": "stream",
     "text": [
      "[13.08790351  0.36777923]\n"
     ]
    }
   ],
   "source": [
    "lam = 0\n",
    "X_train = np.column_stack((np.ones(len(X)),X))\n",
    "theta_opt = trainLinearReg(X_train, y, lam)\n",
    "print(theta_opt)"
   ]
  },
  {
   "cell_type": "code",
   "execution_count": 254,
   "id": "acceptable-bishop",
   "metadata": {},
   "outputs": [
    {
     "data": {
      "image/png": "[encoded data removed]",
      "text/plain": [
       "<Figure size 432x288 with 1 Axes>"
      ]
     },
     "metadata": {
      "needs_background": "light"
     },
     "output_type": "display_data"
    }
   ],
   "source": [
    "X_dummy=np.linspace(min(X),max(X),len(X))\n",
    "X_dummy_train = np.column_stack((np.ones(len(X_dummy)),X_dummy))\n",
    "h = np.dot(X_dummy_train,theta_opt)\n",
    "plt.figure()\n",
    "plt.scatter(x=X, y=y, color=\"blue\")\n",
    "plt.plot(X_dummy,h, color=\"red\")\n",
    "plt.ylabel(\"water flowing out of the dam (y)\")\n",
    "plt.xlabel(\"change in water level (x)\")\n",
    "plt.show()"
   ]
  },
  {
   "cell_type": "markdown",
   "id": "floral-litigation",
   "metadata": {},
   "source": [
    "## Problem 2: Bias-variance"
   ]
  },
  {
   "cell_type": "markdown",
   "id": "metric-uncle",
   "metadata": {},
   "source": [
    "We are going to plot training and test errors on a learning curve to diagnose bias-variance problems."
   ]
  },
  {
   "cell_type": "markdown",
   "id": "absolute-hindu",
   "metadata": {},
   "source": [
    "### Problem 2.1: Learning Curves"
   ]
  },
  {
   "cell_type": "code",
   "execution_count": 255,
   "id": "seven-property",
   "metadata": {},
   "outputs": [],
   "source": [
    "def learningCurve(X, y, Xval, yval, lam):\n",
    "    error_train = []\n",
    "    error_val = []\n",
    "    for i in range(X.shape[0]):\n",
    "        theta = trainLinearReg(X[:i + 1], y[:i + 1], lam)\n",
    "        h_train = np.dot(X[:i + 1], theta)\n",
    "        error_train.append(np.dot(h_train - y[:i + 1], h_train - y[:i + 1]) / (2 * (i + 1)))\n",
    "        h_val = np.dot(Xval, theta)\n",
    "        error_val.append(np.dot(h_val - yval, h_val - yval) / (2 * Xval.shape[0]))\n",
    "    return error_train, error_val"
   ]
  },
  {
   "cell_type": "code",
   "execution_count": 256,
   "id": "certain-north",
   "metadata": {},
   "outputs": [],
   "source": [
    "X_train = np.column_stack((np.ones(len(X)),X))\n",
    "X_val = np.column_stack((np.ones(len(Xval)),Xval))\n",
    "lam = 0\n",
    "error_train, error_val = learningCurve(X_train, y, X_val, yval, lam)"
   ]
  },
  {
   "cell_type": "code",
   "execution_count": 257,
   "id": "soviet-venue",
   "metadata": {},
   "outputs": [
    {
     "data": {
      "image/png": "[encoded data removed]",
      "text/plain": [
       "<Figure size 432x288 with 1 Axes>"
      ]
     },
     "metadata": {
      "needs_background": "light"
     },
     "output_type": "display_data"
    }
   ],
   "source": [
    "plt.figure()\n",
    "plt.plot(range(len(X)),error_train,color =\"green\", label = \"Training error\")\n",
    "plt.plot(range(len(X)),error_val, color = \"red\", label = \"Val error\")\n",
    "plt.ylabel(\"error\")\n",
    "plt.xlabel(\"number of training examples\")\n",
    "plt.title(\"Learning curve for linear regression\")\n",
    "plt.legend()\n",
    "plt.show()"
   ]
  },
  {
   "cell_type": "markdown",
   "id": "dying-driving",
   "metadata": {},
   "source": [
    "We can see from this graph that there is a high bias problem (underfitting), now we can try to fix it by adding more features (polynomial terms)"
   ]
  },
  {
   "cell_type": "markdown",
   "id": "impressed-american",
   "metadata": {},
   "source": [
    "## Problem 3: Polynomial Regression"
   ]
  },
  {
   "cell_type": "markdown",
   "id": "normal-milwaukee",
   "metadata": {},
   "source": [
    "The problem with our linear model was that it was too simple for the data and resulted in underfitting (high bias). In this part of the exercise, we will address this problem by adding more features (polynomials)"
   ]
  },
  {
   "cell_type": "code",
   "execution_count": 258,
   "id": "warming-george",
   "metadata": {},
   "outputs": [],
   "source": [
    "def polyFeatures(X, p):\n",
    "    X_poly = np.power(X, range(1,p+1))\n",
    "    return X_poly"
   ]
  },
  {
   "cell_type": "markdown",
   "id": "turkish-chemistry",
   "metadata": {},
   "source": [
    "### Problem 3.1: Learning Polynomial Reg"
   ]
  },
  {
   "cell_type": "code",
   "execution_count": 259,
   "id": "postal-prototype",
   "metadata": {},
   "outputs": [],
   "source": [
    "def featureNormalize(X):\n",
    "    mean = np.mean(X, axis = 0)\n",
    "    std = np.std(X, axis = 0, ddof = 1)\n",
    "    X_norm = (X-mean)/std\n",
    "    return X_norm, mean, std"
   ]
  },
  {
   "cell_type": "code",
   "execution_count": 260,
   "id": "economic-shelf",
   "metadata": {},
   "outputs": [],
   "source": [
    "p = 8"
   ]
  },
  {
   "cell_type": "markdown",
   "id": "provincial-lawsuit",
   "metadata": {},
   "source": [
    "We first map X into polynomial features and normalize them"
   ]
  },
  {
   "cell_type": "code",
   "execution_count": 261,
   "id": "offshore-neighbor",
   "metadata": {},
   "outputs": [],
   "source": [
    "X_poly = polyFeatures(X, p)\n",
    "X_poly_norm, mean, std = featureNormalize(X_poly)\n",
    "X_poly_train_final = np.column_stack((np.ones(len(X_poly)),X_poly_norm))"
   ]
  },
  {
   "cell_type": "markdown",
   "id": "appreciated-ticket",
   "metadata": {},
   "source": [
    "Then we do the same with X_val and X_test but normalizing using mean and std from X_train"
   ]
  },
  {
   "cell_type": "code",
   "execution_count": 262,
   "id": "noted-ranch",
   "metadata": {},
   "outputs": [],
   "source": [
    "X_poly_test = polyFeatures(Xtest, p)\n",
    "X_poly_test_norm = (X_poly_test-mean)/std\n",
    "X_poly_test_final = np.column_stack((np.ones(len(X_poly_test_norm)),X_poly_test_norm))"
   ]
  },
  {
   "cell_type": "code",
   "execution_count": 263,
   "id": "conceptual-reasoning",
   "metadata": {},
   "outputs": [],
   "source": [
    "X_poly_val = polyFeatures(Xval, p)\n",
    "X_poly_val_norm = (X_poly_val-mean)/std\n",
    "X_poly_val_final = np.column_stack((np.ones(len(X_poly_val_norm)),X_poly_val_norm))"
   ]
  },
  {
   "cell_type": "code",
   "execution_count": 264,
   "id": "sapphire-yellow",
   "metadata": {},
   "outputs": [
    {
     "name": "stdout",
     "output_type": "stream",
     "text": [
      "Normalized Training Example 1:\n",
      "\n",
      "[ 1.         -0.36214078 -0.75508669  0.18222588 -0.70618991  0.30661792\n",
      " -0.59087767  0.3445158  -0.50848117]\n"
     ]
    }
   ],
   "source": [
    "print('Normalized Training Example 1:\\n')\n",
    "print(X_poly_train_final[0])"
   ]
  },
  {
   "cell_type": "code",
   "execution_count": 265,
   "id": "eight-switch",
   "metadata": {},
   "outputs": [],
   "source": [
    "lam = 0\n",
    "theta_opt = trainLinearReg(X_poly_train_final, y, lam)"
   ]
  },
  {
   "cell_type": "code",
   "execution_count": 266,
   "id": "greater-lawsuit",
   "metadata": {},
   "outputs": [
    {
     "data": {
      "image/png": "[encoded data removed]",
      "text/plain": [
       "<Figure size 432x288 with 1 Axes>"
      ]
     },
     "metadata": {
      "needs_background": "light"
     },
     "output_type": "display_data"
    }
   ],
   "source": [
    "X_dummy = np.linspace(min(X),max(X),len(X))\n",
    "X_dummy_poly = polyFeatures(X_dummy, p)\n",
    "X_dummy_norm = (X_dummy_poly-mean)/std\n",
    "X_dummy_train = np.column_stack((np.ones(len(X_dummy_norm)),X_dummy_norm))\n",
    "h = np.dot(X_dummy_train,theta_opt)\n",
    "plt.figure()\n",
    "plt.scatter(x=X, y=y, color=\"blue\")\n",
    "plt.plot(X_dummy,h, color=\"red\")\n",
    "plt.ylabel(\"water flowing out of the dam (y)\")\n",
    "plt.xlabel(\"change in water level (x)\")\n",
    "plt.show()"
   ]
  },
  {
   "cell_type": "markdown",
   "id": "municipal-drunk",
   "metadata": {},
   "source": [
    "Now, we see there is a perfect fit for the training data. Maybe by adding more polynomial features we created an overfitting (high variance) problem"
   ]
  },
  {
   "cell_type": "code",
   "execution_count": 267,
   "id": "surrounded-hollywood",
   "metadata": {},
   "outputs": [],
   "source": [
    "lam = 0\n",
    "error_train, error_val = learningCurve(X_poly_train_final, y, X_poly_val_final, yval, lam)"
   ]
  },
  {
   "cell_type": "code",
   "execution_count": 268,
   "id": "prostate-appointment",
   "metadata": {},
   "outputs": [
    {
     "data": {
      "image/png": "[encoded data removed]",
      "text/plain": [
       "<Figure size 432x288 with 1 Axes>"
      ]
     },
     "metadata": {
      "needs_background": "light"
     },
     "output_type": "display_data"
    }
   ],
   "source": [
    "plt.figure()\n",
    "plt.plot(range(len(X)),error_train,color =\"green\", label = \"Training error\")\n",
    "plt.plot(range(len(X)),error_val, color = \"red\", label = \"Val error\")\n",
    "plt.ylabel(\"error\")\n",
    "plt.xlabel(\"number of training examples\")\n",
    "plt.title(\"Learning curve for linear regression\")\n",
    "plt.legend()\n",
    "plt.show()"
   ]
  },
  {
   "cell_type": "markdown",
   "id": "frequent-wesley",
   "metadata": {},
   "source": [
    "After plotting the errors of the training vs CV sets, we can clearly see we created a high variance and overfitting problem with out training set. A way to fix this is to adjust the regularization parameter $$\\lambda$$"
   ]
  },
  {
   "cell_type": "markdown",
   "id": "aboriginal-classroom",
   "metadata": {},
   "source": [
    "### Problem 3.3: Selecting lambda using a cross validation set"
   ]
  },
  {
   "cell_type": "markdown",
   "id": "sufficient-terrace",
   "metadata": {},
   "source": [
    "The following function will try lambda in the following range: {0, 0.001, 0.003, 0.01, 0.03, 0.1, 0.3, 1, 3, 10}. This will hep us adjust for overfitting caused by adding too many polynomial features"
   ]
  },
  {
   "cell_type": "code",
   "execution_count": 269,
   "id": "prospective-casting",
   "metadata": {},
   "outputs": [],
   "source": [
    "def validationCurve(X, y, Xval, yval):\n",
    "    lambda_vec = [0, 0.001, 0.003, 0.01, 0.03, 0.1, 0.3, 1, 3, 10]\n",
    "    error_train = []\n",
    "    error_val = []\n",
    "    for i in range(len(lambda_vec)):\n",
    "        theta = trainLinearReg(X, y, lambda_vec[i])\n",
    "        h_train = np.dot(X, theta)\n",
    "        error_train.append(np.dot(h_train-y,h_train-y) / (2 * X.shape[0]))\n",
    "        h_val = np.dot(Xval, theta)\n",
    "        error_val.append(np.dot(h_val - yval, h_val - yval) / (2 * Xval.shape[0]))\n",
    "    return lambda_vec, error_train, error_val"
   ]
  },
  {
   "cell_type": "code",
   "execution_count": 285,
   "id": "thirty-appreciation",
   "metadata": {},
   "outputs": [
    {
     "name": "stdout",
     "output_type": "stream",
     "text": [
      "[0.028899142892309975, 0.11273573063192494, 0.17091910410358357, 0.22149970844343816, 0.28184500054954537, 0.4593158183588453, 0.921764449485031, 2.0761857925583964, 4.901347552841234, 16.092209985082704]\n",
      "[52.72059481831733, 9.852314711342903, 16.298238304195863, 16.946068282928636, 12.82839083804885, 7.587125849217402, 4.636826533116104, 4.260627828162386, 3.8228986702376937, 9.945503646000025]\n"
     ]
    }
   ],
   "source": [
    "lambda_vec, error_train, error_val = validationCurve(X_poly_train_final, y, X_poly_val_final, yval)\n",
    "print(error_train)\n",
    "print(error_val)"
   ]
  },
  {
   "cell_type": "code",
   "execution_count": 279,
   "id": "weird-label",
   "metadata": {},
   "outputs": [
    {
     "data": {
      "image/png": "[encoded data removed]",
      "text/plain": [
       "<Figure size 432x288 with 1 Axes>"
      ]
     },
     "metadata": {
      "needs_background": "light"
     },
     "output_type": "display_data"
    }
   ],
   "source": [
    "plt.figure()\n",
    "plt.plot(lambda_vec,error_train,color =\"green\", label = \"Training error\")\n",
    "plt.plot(lambda_vec,error_val, color = \"red\", label = \"Val error\")\n",
    "plt.ylabel(\"error\")\n",
    "plt.xlabel(\"Parametrization value\")\n",
    "plt.title(\"Learning curve for linear regression\")\n",
    "plt.legend()\n",
    "plt.show()"
   ]
  },
  {
   "cell_type": "markdown",
   "id": "provincial-multiple",
   "metadata": {},
   "source": [
    "Finally we use function argmin to get the lambda with the lowest error value"
   ]
  },
  {
   "cell_type": "code",
   "execution_count": 291,
   "id": "broad-connecticut",
   "metadata": {},
   "outputs": [
    {
     "name": "stdout",
     "output_type": "stream",
     "text": [
      "Smallest error of validation data: 3.8228986702376937\n",
      "Lambda value that predicts smallest error: 3\n"
     ]
    }
   ],
   "source": [
    "smallest_error_val = min(error_val)\n",
    "lam = lambda_vec[np.argmin(error_val)]\n",
    "print('Smallest error of validation data:',smallest_error_val)\n",
    "print('Lambda value that predicts smallest error:',lam)"
   ]
  },
  {
   "cell_type": "markdown",
   "id": "alert-collective",
   "metadata": {},
   "source": [
    "We can now plot to see how are training set fits the validation data with the optimal lambda = 3"
   ]
  },
  {
   "cell_type": "code",
   "execution_count": 281,
   "id": "diverse-white",
   "metadata": {},
   "outputs": [
    {
     "data": {
      "image/png": "[encoded data removed]",
      "text/plain": [
       "<Figure size 432x288 with 1 Axes>"
      ]
     },
     "metadata": {
      "needs_background": "light"
     },
     "output_type": "display_data"
    }
   ],
   "source": [
    "theta_opt = trainLinearReg(X_poly_train_final, y, lam)\n",
    "X_dummy = np.linspace(min(X),max(X),len(X))\n",
    "X_dummy_poly = polyFeatures(X_dummy, p)\n",
    "X_dummy_norm = (X_dummy_poly-mean)/std\n",
    "X_dummy_train = np.column_stack((np.ones(len(X_dummy_norm)),X_dummy_norm))\n",
    "h = np.dot(X_dummy_train,theta_opt)\n",
    "plt.figure()\n",
    "plt.scatter(x=X, y=y, color=\"blue\")\n",
    "plt.plot(X_dummy,h, color=\"red\")\n",
    "plt.ylabel(\"water flowing out of the dam (y)\")\n",
    "plt.xlabel(\"change in water level (x)\")\n",
    "plt.show()"
   ]
  },
  {
   "cell_type": "code",
   "execution_count": 292,
   "id": "supposed-twenty",
   "metadata": {},
   "outputs": [
    {
     "name": "stdout",
     "output_type": "stream",
     "text": [
      "Error of test data with optimal lambda: 3.859887833842918\n"
     ]
    }
   ],
   "source": [
    "h = np.dot(X_poly_test_final, theta_opt)\n",
    "error_test = np.dot(h-ytest, h-ytest) / (2 * X_poly_test_final.shape[0])\n",
    "print('Error of test data with optimal lambda:',error_test)"
   ]
  }
 ],
 "metadata": {
  "kernelspec": {
   "display_name": "Python 3",
   "language": "python",
   "name": "python3"
  },
  "language_info": {
   "codemirror_mode": {
    "name": "ipython",
    "version": 3
   },
   "file_extension": ".py",
   "mimetype": "text/x-python",
   "name": "python",
   "nbconvert_exporter": "python",
   "pygments_lexer": "ipython3",
   "version": "3.7.10"
  }
 },
 "nbformat": 4,
 "nbformat_minor": 5
}

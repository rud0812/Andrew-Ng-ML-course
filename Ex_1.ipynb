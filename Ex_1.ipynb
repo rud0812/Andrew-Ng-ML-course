{
 "cells": [
  {
   "cell_type": "markdown",
   "id": "personalized-violation",
   "metadata": {},
   "source": [
    "# Machine Learning - Ex 1\n",
    "---"
   ]
  },
  {
   "cell_type": "markdown",
   "id": "reduced-crystal",
   "metadata": {},
   "source": [
    "Before anything, I will import libraries relevant to the assignments."
   ]
  },
  {
   "cell_type": "code",
   "execution_count": 16,
   "id": "demonstrated-intake",
   "metadata": {},
   "outputs": [],
   "source": [
    "import numpy as np\n",
    "import pandas as pd\n",
    "import matplotlib.pyplot as plt\n",
    "%matplotlib inline\n",
    "\n",
    "data1 = np.loadtxt(\"./data/ex1data1.txt\", delimiter=',')"
   ]
  },
  {
   "cell_type": "markdown",
   "id": "anonymous-montreal",
   "metadata": {},
   "source": [
    "Each problem will be named: \"Problem 1,...,Problem n\". Lets go!"
   ]
  },
  {
   "cell_type": "markdown",
   "id": "declared-belize",
   "metadata": {},
   "source": [
    "## Problem 1: Warm up\n",
    "\n",
    "- Create a 5x5 identity matrix"
   ]
  },
  {
   "cell_type": "code",
   "execution_count": 3,
   "id": "atmospheric-replacement",
   "metadata": {},
   "outputs": [
    {
     "data": {
      "text/plain": [
       "array([[1., 0., 0., 0., 0.],\n",
       "       [0., 1., 0., 0., 0.],\n",
       "       [0., 0., 1., 0., 0.],\n",
       "       [0., 0., 0., 1., 0.],\n",
       "       [0., 0., 0., 0., 1.]])"
      ]
     },
     "execution_count": 3,
     "metadata": {},
     "output_type": "execute_result"
    }
   ],
   "source": [
    "np.eye(5)"
   ]
  },
  {
   "cell_type": "markdown",
   "id": "logical-closure",
   "metadata": {},
   "source": [
    "## Problem 2: Computing Cost Linear Regression"
   ]
  },
  {
   "cell_type": "markdown",
   "id": "useful-pittsburgh",
   "metadata": {},
   "source": [
    "### Problem 2.1: Plotting the data"
   ]
  },
  {
   "cell_type": "code",
   "execution_count": 4,
   "id": "instant-association",
   "metadata": {},
   "outputs": [
    {
     "data": {
      "image/png": "[encoded data removed]",
      "text/plain": [
       "<Figure size 432x288 with 1 Axes>"
      ]
     },
     "metadata": {
      "needs_background": "light"
     },
     "output_type": "display_data"
    }
   ],
   "source": [
    "X = data1[:,0]\n",
    "y = data1[:,1]\n",
    "\n",
    "plt.figure()\n",
    "plt.scatter(X,y) #using np\n",
    "#plt.scatter(df1[0],df1[1]) #using pd\n",
    "plt.ylabel(\"Profit in $10,000s\")\n",
    "plt.xlabel('Population of City in 10,000s')\n",
    "plt.show()"
   ]
  },
  {
   "cell_type": "markdown",
   "id": "gothic-village",
   "metadata": {},
   "source": [
    "### Problem 2.2: Gradient Descent"
   ]
  },
  {
   "cell_type": "markdown",
   "id": "domestic-arbor",
   "metadata": {},
   "source": [
    "Objective of LR is to minimize cost function $$𝐽(ø)={1\\over{2𝑚}}∑(ℎ_ø(𝑥^{(i)})−𝑦^{(𝑖)})^2$$\n",
    "\n",
    "where the hypothesis $h_ø(x)$ is given by the linear model: $$h_ø(x)=ø_0+ø_1x_1+ø_2x_2+...+ø_nx_n = ø^Tx$$"
   ]
  },
  {
   "cell_type": "markdown",
   "id": "sublime-velvet",
   "metadata": {},
   "source": [
    "First, we need to append $x_0=1$ vector to our vector X, create a thetha vector and set alpha and iterations. Set n (rows) and m (cols) for X train"
   ]
  },
  {
   "cell_type": "code",
   "execution_count": 5,
   "id": "dynamic-organizer",
   "metadata": {},
   "outputs": [],
   "source": [
    "m = len(X)\n",
    "n = np.ndim(X)+1\n",
    "X_train = np.column_stack((np.ones(m),X))\n",
    "theta = np.zeros(n)\n",
    "iters = 1500\n",
    "alpha = 0.01"
   ]
  },
  {
   "cell_type": "markdown",
   "id": "introductory-series",
   "metadata": {},
   "source": [
    "Now we can compute cost function $J(ø)$"
   ]
  },
  {
   "cell_type": "code",
   "execution_count": 6,
   "id": "continuous-idaho",
   "metadata": {},
   "outputs": [],
   "source": [
    "def computeCost(X, y, theta):\n",
    "    J = np.dot((np.dot(X,theta)-y),(np.dot(X,theta)-y))/(2*len(X))\n",
    "    return J"
   ]
  },
  {
   "cell_type": "markdown",
   "id": "structured-nelson",
   "metadata": {},
   "source": [
    "Compute $J(ø)$ with theta = 0"
   ]
  },
  {
   "cell_type": "code",
   "execution_count": 7,
   "id": "center-candidate",
   "metadata": {},
   "outputs": [
    {
     "name": "stdout",
     "output_type": "stream",
     "text": [
      "32.07273387745567\n"
     ]
    }
   ],
   "source": [
    "print(computeCost(X_train, y, theta))"
   ]
  },
  {
   "cell_type": "markdown",
   "id": "allied-transparency",
   "metadata": {},
   "source": [
    "Compute $J(ø)$ with theta = (-1,2)"
   ]
  },
  {
   "cell_type": "code",
   "execution_count": 8,
   "id": "conditional-commons",
   "metadata": {},
   "outputs": [
    {
     "name": "stdout",
     "output_type": "stream",
     "text": [
      "54.24245508201236\n"
     ]
    }
   ],
   "source": [
    "print(computeCost(X_train, y,[-1,2]))"
   ]
  },
  {
   "cell_type": "markdown",
   "id": "preliminary-participant",
   "metadata": {},
   "source": [
    "Now, we have to minimize $ø_0$ and $ø_1$ simultaneously, to be able to min the cost function $J(ø)$"
   ]
  },
  {
   "cell_type": "markdown",
   "id": "automated-hudson",
   "metadata": {},
   "source": [
    "$$\\theta_j := \\theta_j - \\alpha \\frac{1}{m} \\sum_{i=1}^{m}{(h_{\\theta}(x^{(i)}) - y^{(i)}) x^{(i)}_j}$$"
   ]
  },
  {
   "cell_type": "code",
   "execution_count": 9,
   "id": "according-culture",
   "metadata": {},
   "outputs": [],
   "source": [
    "def gradientDescent(X, y, theta, alpha, iters):\n",
    "    J_history=np.zeros(iters)\n",
    "    for i in range(iters):\n",
    "        theta = theta - np.dot((alpha/len(X)),np.dot((np.dot(X,theta)-y),X))\n",
    "        J_history[i] = computeCost(X, y, theta)\n",
    "    return theta, J_history"
   ]
  },
  {
   "cell_type": "code",
   "execution_count": 10,
   "id": "viral-external",
   "metadata": {},
   "outputs": [
    {
     "name": "stdout",
     "output_type": "stream",
     "text": [
      "theta computed gradient descent: [-3.63029144  1.16636235]\n"
     ]
    }
   ],
   "source": [
    "theta_opt, J_history = gradientDescent(X_train, y, theta, alpha, iters)\n",
    "# print(\"theta computed gradient descent:\\n%f,\\n%f\", theta_opt[0],theta_opt[1])\n",
    "print(\"theta computed gradient descent:\",(theta_opt))"
   ]
  },
  {
   "cell_type": "markdown",
   "id": "humanitarian-region",
   "metadata": {},
   "source": [
    "Now, lets plot this new theta_opt in the scatter plot with $ℎ_ø(𝑥)=ø_0+ø_1𝑥_1$"
   ]
  },
  {
   "cell_type": "code",
   "execution_count": 11,
   "id": "governmental-innocent",
   "metadata": {},
   "outputs": [
    {
     "data": {
      "image/png": "[encoded data removed]",
      "text/plain": [
       "<Figure size 432x288 with 1 Axes>"
      ]
     },
     "metadata": {
      "needs_background": "light"
     },
     "output_type": "display_data"
    }
   ],
   "source": [
    "h = np.dot(X_train,theta_opt)\n",
    "plt.figure()\n",
    "plt.scatter(X,y)\n",
    "plt.plot(X,h, color=\"red\")\n",
    "plt.ylabel(\"Profit in $10,000s\")\n",
    "plt.xlabel('Population of City in 10,000s')\n",
    "plt.show()"
   ]
  },
  {
   "cell_type": "markdown",
   "id": "polished-breeding",
   "metadata": {},
   "source": [
    "We can also see the cost function * iterations plot, where cost function is minimized as iters get larger"
   ]
  },
  {
   "cell_type": "code",
   "execution_count": 12,
   "id": "tired-stockholm",
   "metadata": {},
   "outputs": [
    {
     "data": {
      "image/png": "[encoded data removed]",
      "text/plain": [
       "<Figure size 432x288 with 1 Axes>"
      ]
     },
     "metadata": {
      "needs_background": "light"
     },
     "output_type": "display_data"
    }
   ],
   "source": [
    "plt.figure()\n",
    "plt.plot(range(iters), J_history)\n",
    "plt.xlabel('Iterations')\n",
    "plt.ylabel('Cost function')\n",
    "plt.show()"
   ]
  },
  {
   "cell_type": "markdown",
   "id": "toxic-garlic",
   "metadata": {},
   "source": [
    "Now we can Predict values for population sizes of 35,000 and 70,000"
   ]
  },
  {
   "cell_type": "code",
   "execution_count": 13,
   "id": "structural-submission",
   "metadata": {},
   "outputs": [
    {
     "name": "stdout",
     "output_type": "stream",
     "text": [
      "For population 35k and 70k, we predict a profit of \n",
      " 0.4519767867701767 4.534245012944714\n"
     ]
    }
   ],
   "source": [
    "X_35k=3.5\n",
    "X_70k=7.0\n",
    "h_35k = theta_opt[0]+np.dot(theta_opt[1],X_35k)\n",
    "h_70k = theta_opt[0]+np.dot(theta_opt[1],X_70k)\n",
    "print(\"For population 35k and 70k, we predict a profit of \\n\",h_35k,h_70k)"
   ]
  },
  {
   "cell_type": "markdown",
   "id": "hungarian-black",
   "metadata": {},
   "source": [
    "Things to keep in minds \n",
    "- np.dot is matrix multiplication\n",
    "- np.multuply is element-wise multiplication\n",
    "- $*$ is elemnt-wise multiplication on arrays and vectors but matrix multiplication on matrices"
   ]
  },
  {
   "cell_type": "markdown",
   "id": "moving-solution",
   "metadata": {},
   "source": [
    "## Problem 3: Linear Regression with Multiple Variables "
   ]
  },
  {
   "cell_type": "markdown",
   "id": "colored-titanium",
   "metadata": {},
   "source": [
    "First, we load the new data and set set the variables X, y"
   ]
  },
  {
   "cell_type": "code",
   "execution_count": 106,
   "id": "accepted-prairie",
   "metadata": {},
   "outputs": [],
   "source": [
    "data2 = np.loadtxt(\"./data/ex1data2.txt\", delimiter=',')\n",
    "X = data2[:,[0,1]]\n",
    "y = data2[:,2]"
   ]
  },
  {
   "cell_type": "markdown",
   "id": "junior-lodging",
   "metadata": {},
   "source": [
    "### Problem 3.1: Feature Normalization"
   ]
  },
  {
   "cell_type": "markdown",
   "id": "committed-maryland",
   "metadata": {},
   "source": [
    "Looking at X and y, they both have different scales. We want to mean normalise them so we can get a better gradient descent minimization of the cost function $J(ø)$"
   ]
  },
  {
   "cell_type": "code",
   "execution_count": 283,
   "id": "finished-electric",
   "metadata": {},
   "outputs": [],
   "source": [
    "def featureNormalize(X):\n",
    "    mean = np.mean(X, axis = 0)\n",
    "    std = np.std(X, axis = 0, ddof = 1)\n",
    "    X_norm = (X-mean)/std\n",
    "    return X_norm, mean, std\n",
    "\n",
    "X_norm, mean, std = featureNormalize(X)"
   ]
  },
  {
   "cell_type": "markdown",
   "id": "entertaining-socket",
   "metadata": {},
   "source": [
    "### Problem 3.2: Gradient Descent Multi"
   ]
  },
  {
   "cell_type": "markdown",
   "id": "adopted-details",
   "metadata": {},
   "source": [
    "To get strted we set the variables n,m, theta, iters, alpha, and X_train (just X_norm appended to $x_0=1$"
   ]
  },
  {
   "cell_type": "code",
   "execution_count": 272,
   "id": "assigned-stuff",
   "metadata": {},
   "outputs": [],
   "source": [
    "n = np.ndim(X)+1\n",
    "m = len(X)\n",
    "theta = np.zeros(n)\n",
    "iters = 400\n",
    "alpha = 0.1\n",
    "X_train = np.column_stack((np.ones(m),X_norm))"
   ]
  },
  {
   "cell_type": "markdown",
   "id": "exotic-initial",
   "metadata": {},
   "source": [
    "Now, we follow the steps and define compute cost and gradient descent."
   ]
  },
  {
   "cell_type": "code",
   "execution_count": 273,
   "id": "talented-recycling",
   "metadata": {},
   "outputs": [],
   "source": [
    "def computeCostMulti(X, y, theta):\n",
    "    J = np.dot((np.dot(X,theta)-y),(np.dot(X,theta)-y))/(2*len(X))\n",
    "    return J"
   ]
  },
  {
   "cell_type": "code",
   "execution_count": 274,
   "id": "pregnant-objective",
   "metadata": {},
   "outputs": [],
   "source": [
    "def gradientDescentMulti(X, y, theta, alpha, iters):\n",
    "    J_history=np.zeros(iters)\n",
    "    for i in range(iters):\n",
    "        theta = theta - ((alpha/len(X)) * np.dot(X.T,(np.dot(X,theta)-y)))\n",
    "        J_history[i] = computeCost(X, y, theta)\n",
    "    return theta, J_history"
   ]
  },
  {
   "cell_type": "code",
   "execution_count": 275,
   "id": "gorgeous-central",
   "metadata": {},
   "outputs": [
    {
     "name": "stdout",
     "output_type": "stream",
     "text": [
      "[340412.65957447 110631.04895815  -6649.47295013]\n"
     ]
    }
   ],
   "source": [
    "theta_opt, J_history = gradientDescentMulti(X_train, y, theta, alpha, iters)\n",
    "print(theta_opt)"
   ]
  },
  {
   "cell_type": "code",
   "execution_count": 276,
   "id": "lovely-shadow",
   "metadata": {},
   "outputs": [
    {
     "data": {
      "image/png": "[encoded data removed]",
      "text/plain": [
       "<Figure size 432x288 with 1 Axes>"
      ]
     },
     "metadata": {
      "needs_background": "light"
     },
     "output_type": "display_data"
    }
   ],
   "source": [
    "plt.figure()\n",
    "plt.plot(range(iters), J_history)\n",
    "plt.xlim(0,60)\n",
    "plt.xlabel('Iterations')\n",
    "plt.ylabel('Cost function')\n",
    "plt.show()"
   ]
  },
  {
   "cell_type": "markdown",
   "id": "indirect-classic",
   "metadata": {},
   "source": [
    "After getting the optimal theta with feature normalization, we can make predictions for our $h(ø)$"
   ]
  },
  {
   "cell_type": "markdown",
   "id": "affected-glenn",
   "metadata": {},
   "source": [
    "We start first by setting the prediciton variables as X_predict and normalizing those variables using our function featureNormalize"
   ]
  },
  {
   "cell_type": "code",
   "execution_count": 291,
   "id": "plastic-charge",
   "metadata": {},
   "outputs": [],
   "source": [
    "X_predict = [1650,3]\n",
    "X_predict_norm = (X_predict-mean)/std"
   ]
  },
  {
   "cell_type": "markdown",
   "id": "legal-savings",
   "metadata": {},
   "source": [
    "Then, we must append $x_0=1$ so that we can make our prediction with the normalized value"
   ]
  },
  {
   "cell_type": "code",
   "execution_count": 293,
   "id": "smoking-spectrum",
   "metadata": {},
   "outputs": [
    {
     "name": "stdout",
     "output_type": "stream",
     "text": [
      "Estimate the price of a 1650 sq-ft, 3 br house 293081.46462227573\n"
     ]
    }
   ],
   "source": [
    "X_predict_norm_final = np.hstack((np.ones(1),X_predict_norm))\n",
    "h_pred = np.dot(theta_opt,X_predict_norm_final)\n",
    "print(\"Estimate the price of a 1650 sq-ft, 3 br house\",h_pred)"
   ]
  },
  {
   "cell_type": "markdown",
   "id": "composite-basketball",
   "metadata": {},
   "source": [
    "### Optional"
   ]
  },
  {
   "cell_type": "markdown",
   "id": "premier-oxide",
   "metadata": {},
   "source": [
    "check convergance rate to minimum $J(ø)$ with different alphas"
   ]
  },
  {
   "cell_type": "code",
   "execution_count": 294,
   "id": "continuous-consensus",
   "metadata": {},
   "outputs": [
    {
     "data": {
      "image/png": "[encoded data removed]",
      "text/plain": [
       "<Figure size 432x288 with 1 Axes>"
      ]
     },
     "metadata": {
      "needs_background": "light"
     },
     "output_type": "display_data"
    }
   ],
   "source": [
    "alphas = [1, 0.3, 0.1, 0.03, 0.01]\n",
    "plt.figure()\n",
    "for a in alphas:\n",
    "    theta_opt, J_history = gradientDescentMulti(X_train, y, theta, a, iters)\n",
    "    plt.plot(range(iters), J_history, label=str(a))\n",
    "plt.xlim(0,300)\n",
    "plt.xlabel('Iterations')\n",
    "plt.ylabel('Cost function')\n",
    "plt.legend()\n",
    "plt.show()"
   ]
  },
  {
   "cell_type": "markdown",
   "id": "cardiovascular-meeting",
   "metadata": {},
   "source": [
    "### Problem 3.3: Normal Eq"
   ]
  },
  {
   "cell_type": "markdown",
   "id": "split-effectiveness",
   "metadata": {},
   "source": [
    "Different from Gradient Descent, there are no iterations here and we know the closed-form solution for thetha_opt by using this equation:\n",
    "$$\\theta =(X^T X)^{-1} X^T y$$"
   ]
  },
  {
   "cell_type": "code",
   "execution_count": 305,
   "id": "sustained-hygiene",
   "metadata": {},
   "outputs": [],
   "source": [
    "def normalEq(X,y):\n",
    "    X_train = np.column_stack((np.ones(m),X)) #add x_0=1 to normalized X array\n",
    "    theta = np.zeros(np.ndim(X_train)) #set theta with same variables as columns in X_train\n",
    "    theta_opt = np.dot(np.dot(np.linalg.pinv(np.dot(X_train.T,X_train)),X_train.T),y)\n",
    "    return theta_opt"
   ]
  },
  {
   "cell_type": "code",
   "execution_count": 306,
   "id": "contrary-ending",
   "metadata": {},
   "outputs": [],
   "source": [
    "theta_opt_NEQ = normalEq(X,y)"
   ]
  },
  {
   "cell_type": "code",
   "execution_count": 307,
   "id": "cardiac-vertex",
   "metadata": {},
   "outputs": [
    {
     "data": {
      "text/plain": [
       "array([89597.90954361,   139.21067402, -8738.01911255])"
      ]
     },
     "execution_count": 307,
     "metadata": {},
     "output_type": "execute_result"
    }
   ],
   "source": [
    "theta_opt_NEQ"
   ]
  },
  {
   "cell_type": "code",
   "execution_count": 308,
   "id": "flying-james",
   "metadata": {},
   "outputs": [
    {
     "name": "stdout",
     "output_type": "stream",
     "text": [
      "Estimate the price of a 1650 sq-ft, 3 br house 293081.46433498926\n"
     ]
    }
   ],
   "source": [
    "X_predict_NEQ = [1,1650,3]\n",
    "h_pred = np.dot(theta_opt_NEQ,X_predict_NEQ)\n",
    "print(\"Estimate the price of a 1650 sq-ft, 3 br house\",h_pred)"
   ]
  }
 ],
 "metadata": {
  "kernelspec": {
   "display_name": "Python 3",
   "language": "python",
   "name": "python3"
  },
  "language_info": {
   "codemirror_mode": {
    "name": "ipython",
    "version": 3
   },
   "file_extension": ".py",
   "mimetype": "text/x-python",
   "name": "python",
   "nbconvert_exporter": "python",
   "pygments_lexer": "ipython3",
   "version": "3.7.10"
  }
 },
 "nbformat": 4,
 "nbformat_minor": 5
}

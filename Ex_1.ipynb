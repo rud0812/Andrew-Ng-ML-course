{
 "cells": [
  {
   "cell_type": "markdown",
   "id": "domestic-reduction",
   "metadata": {},
   "source": [
    "# Machine Learning - Ex 1"
   ]
  },
  {
   "cell_type": "markdown",
   "id": "satisfactory-disorder",
   "metadata": {},
   "source": [
    "Before anything, I will import libraries relevant to the assignments."
   ]
  },
  {
   "cell_type": "code",
   "execution_count": 5,
   "id": "military-battle",
   "metadata": {},
   "outputs": [],
   "source": [
    "import numpy as np\n",
    "import matplotlib.pyplot as plt\n",
    "%matplotlib inline\n",
    "import seaborn as sns"
   ]
  },
  {
   "cell_type": "markdown",
   "id": "private-animal",
   "metadata": {},
   "source": [
    "Each problem will be named: \"Problem 1,...,Problem n\". Lets go!"
   ]
  },
  {
   "cell_type": "markdown",
   "id": "african-occurrence",
   "metadata": {},
   "source": [
    "Problem 0: Warm up\n",
    "\n",
    "- Create a 5x5 identity matrix"
   ]
  },
  {
   "cell_type": "code",
   "execution_count": 4,
   "id": "compliant-boring",
   "metadata": {},
   "outputs": [
    {
     "data": {
      "text/plain": [
       "array([[1., 0., 0., 0., 0.],\n",
       "       [0., 1., 0., 0., 0.],\n",
       "       [0., 0., 1., 0., 0.],\n",
       "       [0., 0., 0., 1., 0.],\n",
       "       [0., 0., 0., 0., 1.]])"
      ]
     },
     "execution_count": 4,
     "metadata": {},
     "output_type": "execute_result"
    }
   ],
   "source": [
    "np.identity(5)"
   ]
  },
  {
   "cell_type": "markdown",
   "id": "bigger-pizza",
   "metadata": {},
   "source": [
    "Problem 1: Computing Cost Linear Regression\n",
    "\n",
    "- def COMPUTECOST(X, y, theta) computes the cost of using theta as the parameter for linear regression to fit the data points in X and y. \n",
    "- initialize m number of training examples\n",
    "- return J correctly\n",
    "- instructions: Compute the cost of a particular choice of theta. You should set J to the cost"
   ]
  },
  {
   "cell_type": "code",
   "execution_count": null,
   "id": "preliminary-image",
   "metadata": {},
   "outputs": [],
   "source": [
    "#import linear regression method\n",
    "from sklearn.linear_model import LinearRegression\n",
    "\n",
    "def compute_cost(X,y,theta):\n",
    "    m = len(y)\n",
    "    J=[]\n",
    "    "
   ]
  }
 ],
 "metadata": {
  "kernelspec": {
   "display_name": "Python 3",
   "language": "python",
   "name": "python3"
  },
  "language_info": {
   "codemirror_mode": {
    "name": "ipython",
    "version": 3
   },
   "file_extension": ".py",
   "mimetype": "text/x-python",
   "name": "python",
   "nbconvert_exporter": "python",
   "pygments_lexer": "ipython3",
   "version": "3.7.10"
  }
 },
 "nbformat": 4,
 "nbformat_minor": 5
}

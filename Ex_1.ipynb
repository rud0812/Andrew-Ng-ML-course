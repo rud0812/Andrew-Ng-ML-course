{
 "cells": [
  {
   "cell_type": "markdown",
   "id": "personalized-violation",
   "metadata": {},
   "source": [
    "# Machine Learning - Ex 1\n",
    "---"
   ]
  },
  {
   "cell_type": "markdown",
   "id": "reduced-crystal",
   "metadata": {},
   "source": [
    "Before anything, I will import libraries relevant to the assignments."
   ]
  },
  {
   "cell_type": "code",
   "execution_count": 48,
   "id": "demonstrated-intake",
   "metadata": {},
   "outputs": [],
   "source": [
    "import numpy as np\n",
    "import pandas as pd\n",
    "import matplotlib.pyplot as plt\n",
    "%matplotlib inline\n",
    "\n",
    "data1 = np.loadtxt(\"./data/ex1data1.txt\", delimiter=',')\n",
    "df1 = pd.read_csv(\"./data/ex1data1.txt\", sep=\",\", header=None)\n",
    "data2 = np.loadtxt(\"./data/ex1data2.txt\", delimiter=',')\n",
    "df2 = pd.read_csv(\"./data/ex1data2.txt\", sep=\",\", header=None)"
   ]
  },
  {
   "cell_type": "markdown",
   "id": "anonymous-montreal",
   "metadata": {},
   "source": [
    "Each problem will be named: \"Problem 1,...,Problem n\". Lets go!"
   ]
  },
  {
   "cell_type": "markdown",
   "id": "declared-belize",
   "metadata": {},
   "source": [
    "## Problem 1: Warm up\n",
    "\n",
    "- Create a 5x5 identity matrix"
   ]
  },
  {
   "cell_type": "code",
   "execution_count": 99,
   "id": "atmospheric-replacement",
   "metadata": {},
   "outputs": [
    {
     "data": {
      "text/plain": [
       "array([[1., 0., 0., 0., 0.],\n",
       "       [0., 1., 0., 0., 0.],\n",
       "       [0., 0., 1., 0., 0.],\n",
       "       [0., 0., 0., 1., 0.],\n",
       "       [0., 0., 0., 0., 1.]])"
      ]
     },
     "execution_count": 99,
     "metadata": {},
     "output_type": "execute_result"
    }
   ],
   "source": [
    "np.eye(5)"
   ]
  },
  {
   "cell_type": "markdown",
   "id": "logical-closure",
   "metadata": {},
   "source": [
    "## Problem 2: Computing Cost Linear Regression"
   ]
  },
  {
   "cell_type": "markdown",
   "id": "useful-pittsburgh",
   "metadata": {},
   "source": [
    "### Problem 2.1: Plotting the data"
   ]
  },
  {
   "cell_type": "code",
   "execution_count": 234,
   "id": "instant-association",
   "metadata": {},
   "outputs": [
    {
     "data": {
      "image/png": "[encoded data removed]",
      "text/plain": [
       "<Figure size 432x288 with 1 Axes>"
      ]
     },
     "metadata": {
      "needs_background": "light"
     },
     "output_type": "display_data"
    }
   ],
   "source": [
    "X = data1[:,0]\n",
    "y = data1[:,1]\n",
    "\n",
    "plt.figure()\n",
    "plt.scatter(X,y) #using np\n",
    "#plt.scatter(df1[0],df1[1]) #using pd\n",
    "plt.ylabel(\"Profit in $10,000s\")\n",
    "plt.xlabel('Population of City in 10,000s')\n",
    "plt.show()"
   ]
  },
  {
   "cell_type": "markdown",
   "id": "gothic-village",
   "metadata": {},
   "source": [
    "### Problem 2.2: Gradient Descent"
   ]
  },
  {
   "cell_type": "markdown",
   "id": "domestic-arbor",
   "metadata": {},
   "source": [
    "Objective of LR is to minimize cost function $J(ø)$ where the hypothesis $h_ø(x)$ is given by the linear model: $$h_ø(x)=ø_0+ø_1x_1+ø_2x_2+...+ø_nx_n = ø^Tx$$"
   ]
  },
  {
   "cell_type": "markdown",
   "id": "sublime-velvet",
   "metadata": {},
   "source": [
    "First, we need to append $x_0=1$ vector to our vector X, create a thetha vector and set alpha and iterations. Set n (rows) and m (cols) for X train"
   ]
  },
  {
   "cell_type": "code",
   "execution_count": 181,
   "id": "dynamic-organizer",
   "metadata": {},
   "outputs": [],
   "source": [
    "m = len(X)\n",
    "n = np.ndim(X)+1\n",
    "X_train = np.column_stack((np.ones(m),X))\n",
    "theta = np.zeros(n)\n",
    "iters = 1500\n",
    "alpha = 0.01"
   ]
  },
  {
   "cell_type": "markdown",
   "id": "introductory-series",
   "metadata": {},
   "source": [
    "Now we can compute cost function $J(ø)$"
   ]
  },
  {
   "cell_type": "code",
   "execution_count": 182,
   "id": "continuous-idaho",
   "metadata": {},
   "outputs": [],
   "source": [
    "def computeCost(X, y, theta):\n",
    "    J = np.dot((np.dot(X,theta)-y),(np.dot(X,theta)-y))/(2*len(X))\n",
    "    return J"
   ]
  },
  {
   "cell_type": "markdown",
   "id": "structured-nelson",
   "metadata": {},
   "source": [
    "Compute $J(ø)$ with theta = 0"
   ]
  },
  {
   "cell_type": "code",
   "execution_count": 183,
   "id": "center-candidate",
   "metadata": {},
   "outputs": [
    {
     "name": "stdout",
     "output_type": "stream",
     "text": [
      "32.07273387745567\n"
     ]
    }
   ],
   "source": [
    "print(computeCost(X_train, y, theta))"
   ]
  },
  {
   "cell_type": "markdown",
   "id": "allied-transparency",
   "metadata": {},
   "source": [
    "Compute $J(ø)$ with theta = (-1,2)"
   ]
  },
  {
   "cell_type": "code",
   "execution_count": 184,
   "id": "conditional-commons",
   "metadata": {},
   "outputs": [
    {
     "name": "stdout",
     "output_type": "stream",
     "text": [
      "54.24245508201236\n"
     ]
    }
   ],
   "source": [
    "print(computeCost(X_train, y,[-1,2]))"
   ]
  },
  {
   "cell_type": "markdown",
   "id": "preliminary-participant",
   "metadata": {},
   "source": [
    "Now, we have to minimize $ø_0$ and $ø_1$ simultaneously, to be able to min the cost function $J(ø)$"
   ]
  },
  {
   "cell_type": "markdown",
   "id": "automated-hudson",
   "metadata": {},
   "source": [
    "$$\\theta_j := \\theta_j - \\alpha \\frac{1}{m} \\sum_{i=1}^{m}{(h_{\\theta}(x^{(i)}) - y^{(i)}) x^{(i)}_j}$$"
   ]
  },
  {
   "cell_type": "code",
   "execution_count": 185,
   "id": "according-culture",
   "metadata": {},
   "outputs": [],
   "source": [
    "def gradientDescent(X, y, theta, alpha, iters):\n",
    "    J_history=np.zeros(iters)\n",
    "    for i in range(iters):\n",
    "        theta = theta - np.dot((alpha/len(X)),np.dot((np.dot(X,theta)-y),X))\n",
    "        J_history[i] = computeCost(X, y, theta)\n",
    "    return theta, J_history"
   ]
  },
  {
   "cell_type": "code",
   "execution_count": 240,
   "id": "viral-external",
   "metadata": {},
   "outputs": [
    {
     "name": "stdout",
     "output_type": "stream",
     "text": [
      "theta computed gradient descent: [-3.63029144  1.16636235]\n"
     ]
    }
   ],
   "source": [
    "theta_opt, J_history = gradientDescent(X_train, y, theta, alpha, iters)\n",
    "# print(\"theta computed gradient descent:\\n%f,\\n%f\", theta_opt[0],theta_opt[1])\n",
    "print(\"theta computed gradient descent:\",(theta_opt))"
   ]
  },
  {
   "cell_type": "markdown",
   "id": "humanitarian-region",
   "metadata": {},
   "source": [
    "Now, lets plot this new theta_opt in the scatter plot with $ℎ_ø(𝑥)=ø_0+ø_1𝑥_1$"
   ]
  },
  {
   "cell_type": "code",
   "execution_count": 250,
   "id": "governmental-innocent",
   "metadata": {},
   "outputs": [
    {
     "data": {
      "image/png": "[encoded data removed]",
      "text/plain": [
       "<Figure size 432x288 with 1 Axes>"
      ]
     },
     "metadata": {
      "needs_background": "light"
     },
     "output_type": "display_data"
    }
   ],
   "source": [
    "h = np.dot(X_train,theta_opt)\n",
    "plt.figure()\n",
    "plt.scatter(X,y)\n",
    "plt.plot(X,h, color=\"red\")\n",
    "plt.ylabel(\"Profit in $10,000s\")\n",
    "plt.xlabel('Population of City in 10,000s')\n",
    "plt.show()"
   ]
  },
  {
   "cell_type": "markdown",
   "id": "polished-breeding",
   "metadata": {},
   "source": [
    "We can also see the cost function * iterations plot, where cost function is minimized as iters get larger"
   ]
  },
  {
   "cell_type": "code",
   "execution_count": 257,
   "id": "tired-stockholm",
   "metadata": {},
   "outputs": [
    {
     "data": {
      "image/png": "[encoded data removed]",
      "text/plain": [
       "<Figure size 432x288 with 1 Axes>"
      ]
     },
     "metadata": {
      "needs_background": "light"
     },
     "output_type": "display_data"
    }
   ],
   "source": [
    "plt.figure()\n",
    "plt.plot(range(iters), J_history)\n",
    "plt.xlabel('Iterations')\n",
    "plt.ylabel('Cost function')\n",
    "plt.show()"
   ]
  },
  {
   "cell_type": "markdown",
   "id": "toxic-garlic",
   "metadata": {},
   "source": [
    "Now we can Predict values for population sizes of 35,000 and 70,000"
   ]
  },
  {
   "cell_type": "code",
   "execution_count": 263,
   "id": "structural-submission",
   "metadata": {},
   "outputs": [
    {
     "name": "stdout",
     "output_type": "stream",
     "text": [
      "For population 35k and 70k, we predict a profit of \n",
      " 0.4519767867701767 4.534245012944714\n"
     ]
    }
   ],
   "source": [
    "X_35k=3.5\n",
    "X_70k=7.0\n",
    "h_35k = theta_opt[0]+np.dot(theta_opt[1],X_35k)\n",
    "h_70k = theta_opt[0]+np.dot(theta_opt[1],X_70k)\n",
    "print(\"For population 35k and 70k, we predict a profit of \\n\",h_35k,h_70k)"
   ]
  },
  {
   "cell_type": "code",
   "execution_count": null,
   "id": "specialized-grove",
   "metadata": {},
   "outputs": [],
   "source": []
  }
 ],
 "metadata": {
  "kernelspec": {
   "display_name": "Python 3",
   "language": "python",
   "name": "python3"
  },
  "language_info": {
   "codemirror_mode": {
    "name": "ipython",
    "version": 3
   },
   "file_extension": ".py",
   "mimetype": "text/x-python",
   "name": "python",
   "nbconvert_exporter": "python",
   "pygments_lexer": "ipython3",
   "version": "3.7.10"
  }
 },
 "nbformat": 4,
 "nbformat_minor": 5
}
